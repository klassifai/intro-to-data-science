{
 "cells": [
  {
   "cell_type": "code",
   "execution_count": 1,
   "metadata": {},
   "outputs": [],
   "source": [
    "import sklearn \n",
    "from sklearn import linear_model\n",
    "from sklearn.neighbors import KNeighborsClassifier\n",
    "from sklearn.model_selection import train_test_split\n",
    "from sklearn.metrics import confusion_matrix\n",
    "from sklearn.metrics import accuracy_score\n",
    "import matplotlib.pyplot as plt\n",
    "import scipy\n",
    "import os\n",
    "import sys\n",
    "import glob\n",
    "import numpy as np\n",
    "from sklearn.externals import joblib\n",
    "from random import shuffle\n",
    "import scipy.io.wavfile\n",
    "from python_speech_features import mfcc"
   ]
  },
  {
   "cell_type": "code",
   "execution_count": 2,
   "metadata": {},
   "outputs": [],
   "source": [
    "def create_ceps(wavfile):\n",
    "    sampling_rate, song_array = scipy.io.wavfile.read(wavfile)\n",
    "    \"\"\"Get MFCC\n",
    "    ceps  : ndarray of MFCC\n",
    "    mspec : ndarray of log-spectrum in the mel-domain\n",
    "    spec  : spectrum magnitude\n",
    "    \"\"\"\n",
    "    ceps=mfcc(song_array)\n",
    "    #this is done in order to replace NaN and infinite value in array\n",
    "    bad_indices = np.where(np.isnan(ceps))\n",
    "    b=np.where(np.isinf(ceps))\n",
    "    ceps[bad_indices]=0\n",
    "    ceps[b]=0\n",
    "    write_ceps(ceps, wavfile)\n",
    "\n",
    "# Saves mfcc data \n",
    "def write_ceps(ceps, wavfile):\n",
    "    base_wav, ext = os.path.splitext(wavfile)\n",
    "    data_wav = base_wav + \".ceps\"\n",
    "    np.save(data_wav, ceps)\n",
    "    \n"
   ]
  },
  {
   "cell_type": "code",
   "execution_count": 3,
   "metadata": {},
   "outputs": [],
   "source": [
    "\"\"\"reads MFCC-files and prepares X_train and y_train.\n",
    "genre_list must consist of names of folders/genres consisting of the required MFCC-files\n",
    "base_dir must contain genre_list of directories\n",
    "\"\"\"\n",
    "def read_ceps(genre_list, base_dir):\n",
    "    X= []\n",
    "    y=[]\n",
    "    for label, genre in enumerate(genre_list):\n",
    "#        for fn in glob.glob(os.path.join(base_dir, genre, \"*.ceps.npy\")):\n",
    "        for fn in glob.glob(os.path.join(base_dir, genre, \"*.wav\")):\n",
    "            create_ceps(fn)\n",
    "            cepsname = fn[:-3] + \"ceps.npy\"\n",
    "            ceps = np.load(cepsname)\n",
    "            num_ceps = len(ceps)\n",
    "            X.append(np.mean(ceps[int(num_ceps*1/10):int(num_ceps*9/10)], axis=0))\n",
    "            #X.append(ceps)\n",
    "            y.append(label)\n",
    "\n",
    "    print(np.array(X).shape)\n",
    "    print(len(y))\n",
    "    return np.array(X), np.array(y)"
   ]
  },
  {
   "cell_type": "code",
   "execution_count": 4,
   "metadata": {},
   "outputs": [],
   "source": [
    "def logisticReg(X_train, y_train, X_test, y_test, genre_list):\n",
    "\n",
    "    print(len(X_train))\n",
    "    print(len(X_train[0]))\n",
    "\n",
    "    #Logistic Regression classifier\n",
    "\n",
    "    logistic_classifier = linear_model.logistic.LogisticRegression()\n",
    "    logistic_classifier.fit(X_train, y_train)\n",
    "    logistic_predictions = logistic_classifier.predict(X_test)\n",
    "    logistic_accuracy = accuracy_score(y_test, logistic_predictions)\n",
    "    logistic_cm = confusion_matrix(y_test, logistic_predictions)\n",
    "    print(\"logistic accuracy = \" + str(logistic_accuracy))\n",
    "    print(\"logistic_cm:\")\n",
    "    print(logistic_cm)\n",
    "\n",
    "    plot_confusion_matrix(logistic_cm, \"Confusion matrix\", genre_list)\n"
   ]
  },
  {
   "cell_type": "code",
   "execution_count": 5,
   "metadata": {},
   "outputs": [],
   "source": [
    "def plot_confusion_matrix(cm, title, genre_list, cmap=plt.cm.RdBu):\n",
    "    plt.imshow(cm, interpolation='nearest', cmap=cmap)\n",
    "    plt.title(title)\n",
    "    plt.colorbar()\n",
    "    tick_marks = np.arange(len(genre_list))\n",
    "    plt.xticks(tick_marks, genre_list, rotation=45)\n",
    "    plt.yticks(tick_marks, genre_list)\n",
    "    plt.tight_layout()\n",
    "    plt.ylabel('True label')\n",
    "    plt.xlabel('Predicted label')\n",
    "    plt.show()"
   ]
  },
  {
   "cell_type": "code",
   "execution_count": 6,
   "metadata": {},
   "outputs": [
    {
     "name": "stdout",
     "output_type": "stream",
     "text": [
      "Getting MFCC features ... \n",
      "(199, 13)\n",
      "199\n",
      "Split into train and test ...\n",
      "Train and test with logistic regression\n",
      "99\n",
      "13\n",
      "logistic accuracy = 0.87\n",
      "logistic_cm:\n",
      "[[47  4]\n",
      " [ 9 40]]\n"
     ]
    },
    {
     "data": {
      "image/png": "[encoded data removed]",
      "text/plain": [
       "<matplotlib.figure.Figure at 0x102451978>"
      ]
     },
     "metadata": {},
     "output_type": "display_data"
    },
    {
     "name": "stdout",
     "output_type": "stream",
     "text": [
      "******Done*************\n"
     ]
    }
   ],
   "source": [
    "\n",
    "def main():\n",
    "    base_dir_mfcc = '../data/'\n",
    "    \n",
    "    genre_list = [ \"rock\",\"classical\"]\n",
    "    print(\"Getting MFCC features ... \")\n",
    "    X,y= read_ceps(genre_list, base_dir_mfcc)\n",
    "    print(\"Split into train and test ...\")\n",
    "    X_train, X_test, y_train, y_test = train_test_split(X, y, test_size = .50)\n",
    "    print(\"Train and test with logistic regression\")\n",
    "    logisticReg(X_train, y_train, X_test, y_test, genre_list)\n",
    "    print('******Done*************')\n",
    "    \n",
    "\n",
    "if __name__ == \"__main__\":\n",
    "    main()"
   ]
  }
 ],
 "metadata": {
  "kernelspec": {
   "display_name": "Python 3",
   "language": "python",
   "name": "python3"
  },
  "language_info": {
   "codemirror_mode": {
    "name": "ipython",
    "version": 3
   },
   "file_extension": ".py",
   "mimetype": "text/x-python",
   "name": "python",
   "nbconvert_exporter": "python",
   "pygments_lexer": "ipython3",
   "version": "3.6.3"
  }
 },
 "nbformat": 4,
 "nbformat_minor": 2
}
