{
 "cells": [
  {
   "cell_type": "code",
   "execution_count": 1,
   "metadata": {},
   "outputs": [],
   "source": [
    "import matplotlib.pyplot as plt\n",
    "from sklearn import datasets, linear_model, metrics\n",
    "from sklearn.model_selection import train_test_split"
   ]
  },
  {
   "cell_type": "code",
   "execution_count": 2,
   "metadata": {},
   "outputs": [
    {
     "name": "stdout",
     "output_type": "stream",
     "text": [
      "Coefficients: \n",
      " [-9.71284334e-02  6.07284394e-02  5.96370092e-02  2.44352809e+00\n",
      " -2.14995617e+01  2.78993012e+00  3.66229013e-03 -1.51568850e+00\n",
      "  3.06819943e-01 -1.12697744e-02 -1.00652372e+00  6.56942407e-03\n",
      " -5.69755469e-01]\n",
      "Variance score: 0.7836482437943462\n"
     ]
    },
    {
     "data": {
      "image/png": "[encoded data removed]",
      "text/plain": [
       "<matplotlib.figure.Figure at 0x10f15e9b0>"
      ]
     },
     "metadata": {},
     "output_type": "display_data"
    }
   ],
   "source": [
    "boston = datasets.load_boston(return_X_y=False)\n",
    " \n",
    "# defining feature matrix(X) and response vector(y)\n",
    "X = boston.data\n",
    "y = boston.target\n",
    "\n",
    "print(boston.DESCR)\n",
    "# splitting X and y into training and testing sets\n",
    "X_train, X_test, y_train, y_test = train_test_split(X, y, test_size=0.2,\n",
    "                                                    random_state=1)\n",
    "# create linear regression object\n",
    "reg = linear_model.LinearRegression()\n",
    " \n",
    "# train the model using the training sets\n",
    "reg.fit(X_train, y_train)\n",
    "\n",
    "# regression coefficients\n",
    "print('Coefficients: \\n', reg.coef_)\n",
    " \n",
    "# variance score: 1 means perfect prediction\n",
    "print('Variance score: {}'.format(reg.score(X_test, y_test)))\n",
    " \n",
    "## setting plot style\n",
    "plt.style.use('fivethirtyeight')\n",
    " \n",
    "##plot y_test vs y_predict\n",
    "plt.scatter(y_test,reg.predict(X_test),color = 'red', s=10, label = 'Predict vs Test')\n",
    " \n",
    "## function to show plot\n",
    "plt.show()\n"
   ]
  }
 ],
 "metadata": {
  "kernelspec": {
   "display_name": "Python 3",
   "language": "python",
   "name": "python3"
  },
  "language_info": {
   "codemirror_mode": {
    "name": "ipython",
    "version": 3
   },
   "file_extension": ".py",
   "mimetype": "text/x-python",
   "name": "python",
   "nbconvert_exporter": "python",
   "pygments_lexer": "ipython3",
   "version": "3.6.3"
  }
 },
 "nbformat": 4,
 "nbformat_minor": 2
}
